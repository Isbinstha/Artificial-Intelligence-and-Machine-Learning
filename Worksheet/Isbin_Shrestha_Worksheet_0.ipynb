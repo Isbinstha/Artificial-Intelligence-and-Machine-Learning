{
  "nbformat": 4,
  "nbformat_minor": 0,
  "metadata": {
    "colab": {
      "provenance": []
    },
    "kernelspec": {
      "name": "python3",
      "display_name": "Python 3"
    },
    "language_info": {
      "name": "python"
    }
  },
  "cells": [
    {
      "cell_type": "markdown",
      "source": [
        "Name : Isbin Shrestha\n",
        "\n"
      ],
      "metadata": {
        "id": "6GKhUw09N6T8"
      }
    },
    {
      "cell_type": "markdown",
      "source": [
        "Student ID : 2358106\n"
      ],
      "metadata": {
        "id": "t97fez2_OVB3"
      }
    },
    {
      "cell_type": "markdown",
      "source": [
        "Group : 19"
      ],
      "metadata": {
        "id": "L21PDk9COZX7"
      }
    },
    {
      "cell_type": "markdown",
      "source": [
        " Task- 1:\n",
        " Create a Python program that converts between different units of measurement.\n"
      ],
      "metadata": {
        "id": "ZvTikT6CvafK"
      }
    },
    {
      "cell_type": "code",
      "execution_count": null,
      "metadata": {
        "colab": {
          "base_uri": "https://localhost:8080/"
        },
        "id": "VzgIhbeGGByM",
        "outputId": "33db092b-9f4e-47a7-e509-a0f207cf24e8"
      },
      "outputs": [
        {
          "output_type": "stream",
          "name": "stdout",
          "text": [
            "Unit Conversion Program\n",
            "Available conversions:\n",
            "1. Length (meters <-> feet)\n",
            "2. Weight (kilograms <-> pounds)\n",
            "3. Volume (liters <-> gallons)\n",
            "\n",
            "Choose conversion type (length/weight/volume): volume\n",
            "Choose direction:\n",
            "1. Liters to Gallons\n",
            "2. Gallons to Liters\n",
            "> 2\n",
            "Enter value to convert: 85\n",
            "\n",
            "Conversion Result:\n",
            "85.0 gallons = 321.76 liters\n"
          ]
        }
      ],
      "source": [
        "def convert_units(conversion_type, direction, value):\n",
        "    \"\"\"\n",
        "    Convert between different units of measurement.\n",
        "\n",
        "    Args:\n",
        "        conversion_type (str): Type of conversion (length/weight/volume)\n",
        "        direction (str): Conversion direction ('1' or '2')\n",
        "        value (float): Numeric value to convert\n",
        "\n",
        "    Returns:\n",
        "        str: Formatted conversion result with units\n",
        "\n",
        "    Raises:\n",
        "        ValueError: If invalid conversion_type or direction is provided\n",
        "    \"\"\"\n",
        "    # Conversion factors\n",
        "    meters_to_feet = 3.28084\n",
        "    kg_to_pounds = 2.20462\n",
        "    liters_to_gallons = 0.264172\n",
        "\n",
        "    if conversion_type == \"length\":\n",
        "        if direction == \"1\":\n",
        "            result = value * meters_to_feet\n",
        "            return f\"{value} meters = {result:.2f} feet\"\n",
        "        elif direction == \"2\":\n",
        "            result = value / meters_to_feet\n",
        "            return f\"{value} feet = {result:.2f} meters\"\n",
        "    elif conversion_type == \"weight\":\n",
        "        if direction == \"1\":\n",
        "            result = value * kg_to_pounds\n",
        "            return f\"{value} kg = {result:.2f} pounds\"\n",
        "        elif direction == \"2\":\n",
        "            result = value / kg_to_pounds\n",
        "            return f\"{value} pounds = {result:.2f} kg\"\n",
        "    elif conversion_type == \"volume\":\n",
        "        if direction == \"1\":\n",
        "            result = value * liters_to_gallons\n",
        "            return f\"{value} liters = {result:.2f} gallons\"\n",
        "        elif direction == \"2\":\n",
        "            result = value / liters_to_gallons\n",
        "            return f\"{value} gallons = {result:.2f} liters\"\n",
        "\n",
        "    raise ValueError(\"Invalid conversion type or direction\")\n",
        "\n",
        "\n",
        "def main():\n",
        "    \"\"\"Main program function handling user interaction\"\"\"\n",
        "    print(\"Unit Conversion Program\")\n",
        "    print(\"Available conversions:\")\n",
        "    print(\"1. Length (meters <-> feet)\")\n",
        "    print(\"2. Weight (kilograms <-> pounds)\")\n",
        "    print(\"3. Volume (liters <-> gallons)\")\n",
        "\n",
        "    try:\n",
        "        # Get conversion type\n",
        "        conversion_type = input(\"\\nChoose conversion type (length/weight/volume): \").lower()\n",
        "        if conversion_type not in [\"length\", \"weight\", \"volume\"]:\n",
        "            raise ValueError(\"Invalid conversion type\")\n",
        "\n",
        "        # Get conversion direction\n",
        "        if conversion_type == \"length\":\n",
        "            direction = input(\"Choose direction:\\n1. Meters to Feet\\n2. Feet to Meters\\n> \")\n",
        "        elif conversion_type == \"weight\":\n",
        "            direction = input(\"Choose direction:\\n1. Kilograms to Pounds\\n2. Pounds to Kilograms\\n> \")\n",
        "        else:\n",
        "            direction = input(\"Choose direction:\\n1. Liters to Gallons\\n2. Gallons to Liters\\n> \")\n",
        "\n",
        "        if direction not in [\"1\", \"2\"]:\n",
        "            raise ValueError(\"Invalid direction choice\")\n",
        "\n",
        "        # Get value to convert\n",
        "        value = float(input(\"Enter value to convert: \"))\n",
        "\n",
        "        # Perform conversion and display result\n",
        "        result = convert_units(conversion_type, direction, value)\n",
        "        print(\"\\nConversion Result:\")\n",
        "        print(result)\n",
        "\n",
        "    except ValueError as e:\n",
        "        print(f\"Error: {str(e)}\")\n",
        "    except Exception as e:\n",
        "        print(f\"An unexpected error occurred: {str(e)}\")\n",
        "\n",
        "\n",
        "if __name__ == \"__main__\":\n",
        "    main()"
      ]
    },
    {
      "cell_type": "markdown",
      "source": [
        " Task- 2:\n",
        " Create a Python program that performs various mathematical operations on a list of numbers"
      ],
      "metadata": {
        "id": "qHk7HSjdwh7j"
      }
    },
    {
      "cell_type": "code",
      "source": [
        "def sum(numbers):\n",
        "    \"\"\"\n",
        "    Calculate the sum of a list of numbers using loop.\n",
        "\n",
        "    Parameters:\n",
        "    numbers (list): A list of numeric values.\n",
        "\n",
        "    Returns:\n",
        "    float: Sum of numbers.\n",
        "    \"\"\"\n",
        "    total = 0\n",
        "    for num in numbers:\n",
        "        total += num\n",
        "    return total\n",
        "\n",
        "def average(numbers):\n",
        "    \"\"\"\n",
        "    Calculate the average of a list of numbers using loop.\n",
        "\n",
        "    Parameters:\n",
        "    numbers (list): A list of numeric values.\n",
        "\n",
        "    Returns:\n",
        "    float: Average\n",
        "    \"\"\"\n",
        "    total = 0\n",
        "    count = 0\n",
        "    for num in numbers:\n",
        "        total += num\n",
        "        count += 1\n",
        "    return total / count if count > 0 else 0\n",
        "\n",
        "def maximum(numbers):\n",
        "    \"\"\"\n",
        "    Find the maximum number in a list using a for loop.\n",
        "\n",
        "    Parameters:\n",
        "    numbers (list): A list of numeric values.\n",
        "\n",
        "    Returns:\n",
        "    float: Maximum number.\n",
        "    \"\"\"\n",
        "    max_value = numbers[0]\n",
        "    for num in numbers:\n",
        "        if num > max_value:\n",
        "            max_value = num\n",
        "    return max_value\n",
        "\n",
        "def minimum(numbers):\n",
        "    \"\"\"\n",
        "    Find the minimum number in a list using a for loop.\n",
        "\n",
        "    Parameters:\n",
        "    numbers (list): A list of numeric values.\n",
        "\n",
        "    Returns:\n",
        "    float: Minimum number.\n",
        "    \"\"\"\n",
        "    min_value = numbers[0]\n",
        "    for num in numbers:\n",
        "        if num < min_value:\n",
        "            min_value = num\n",
        "    return min_value\n",
        "\n",
        "def main():\n",
        "    \"\"\"\n",
        "    Main function to prompt user input and perform calculations.\n",
        "    \"\"\"\n",
        "    print(\"Math Operations on a List of Numbers\")\n",
        "    print(\"Choose an operation:\")\n",
        "    print(\"1. Sum\")\n",
        "    print(\"2. Average\")\n",
        "    print(\"3. Maximum\")\n",
        "    print(\"4. Minimum\")\n",
        "\n",
        "    try:\n",
        "        choice = int(input(\"Enter your choice (1/2/3/4): \"))\n",
        "        if choice not in [1, 2, 3, 4]:\n",
        "            print(\"Invalid choice! Please select a valid option.\")\n",
        "            return\n",
        "\n",
        "        numbers = input(\"Enter numbers separated by spaces: \").split()\n",
        "        numbers = [float(num) for num in numbers]\n",
        "\n",
        "        if not numbers:\n",
        "            print(\"Error: No numbers provided.\")\n",
        "            return\n",
        "\n",
        "        if choice == 1:\n",
        "            result = sum(numbers)\n",
        "            operation = \"Sum\"\n",
        "        elif choice == 2:\n",
        "            result = average(numbers)\n",
        "            operation = \"Average\"\n",
        "        elif choice == 3:\n",
        "            result = maximum(numbers)\n",
        "            operation = \"Maximum\"\n",
        "        else:\n",
        "            result = minimum(numbers)\n",
        "            operation = \"Minimum\"\n",
        "\n",
        "        print(f\"{operation} of given numbers: {result:.4f}\")\n",
        "\n",
        "    except ValueError:\n",
        "        print(\"Invalid input! Please enter numeric values only.\")\n",
        "\n",
        "\n",
        "if __name__ == \"__main__\":\n",
        "    main()\n"
      ],
      "metadata": {
        "colab": {
          "base_uri": "https://localhost:8080/"
        },
        "id": "lEA0SRVCIbCD",
        "outputId": "c988dc9e-d278-4043-823a-70046cabdc70"
      },
      "execution_count": null,
      "outputs": [
        {
          "output_type": "stream",
          "name": "stdout",
          "text": [
            "Math Operations on a List of Numbers\n",
            "Choose an operation:\n",
            "1. Sum\n",
            "2. Average\n",
            "3. Maximum\n",
            "4. Minimum\n",
            "Enter your choice (1/2/3/4): 2\n",
            "Enter numbers separated by spaces: 5 8 9 4 7\n",
            "Average of given numbers: 6.6000\n"
          ]
        }
      ]
    },
    {
      "cell_type": "markdown",
      "source": [
        "**4.2 Exercise on List Manipulation:**"
      ],
      "metadata": {
        "id": "8hqDDTS_yylX"
      }
    },
    {
      "cell_type": "markdown",
      "source": [
        "1. Extract Every Other Element"
      ],
      "metadata": {
        "id": "vtb4rpjQzDEx"
      }
    },
    {
      "cell_type": "code",
      "source": [
        "def extract_every_other(lst):\n",
        "    \"\"\"\n",
        "    Extracts every other element from a list, starting from the first element.\n",
        "\n",
        "    Args:\n",
        "        lst (list): The input list.\n",
        "\n",
        "    Returns:\n",
        "        list: A new list containing every other element.\n",
        "    \"\"\"\n",
        "    result = []\n",
        "    for i in range(0, len(lst), 2):\n",
        "        result.append(lst[i])\n",
        "    return result\n",
        "\n",
        "print(extract_every_other([1, 2, 3, 4, 5, 6]))"
      ],
      "metadata": {
        "colab": {
          "base_uri": "https://localhost:8080/"
        },
        "id": "-an10zezw46g",
        "outputId": "cfc74c3e-5653-4350-86a2-3787b80e2ce6"
      },
      "execution_count": null,
      "outputs": [
        {
          "output_type": "stream",
          "name": "stdout",
          "text": [
            "[1, 3, 5]\n"
          ]
        }
      ]
    },
    {
      "cell_type": "markdown",
      "source": [
        "2. Slice a Sublist"
      ],
      "metadata": {
        "id": "BRJzE_wZzGNo"
      }
    },
    {
      "cell_type": "code",
      "source": [
        "def get_sublist(lst, start, end):\n",
        "    \"\"\"\n",
        "    Returns a sublist from a given list, starting from a specified index and ending at another specified index.\n",
        "\n",
        "    Args:\n",
        "        lst (list): The input list.\n",
        "        start (int): The starting index (inclusive).\n",
        "        end (int): The ending index (inclusive).\n",
        "\n",
        "    Returns:\n",
        "        list: The sublist from start to end.\n",
        "    \"\"\"\n",
        "    result = []\n",
        "    for i in range(start, end + 1):\n",
        "        result.append(lst[i])\n",
        "    return result\n",
        "print(get_sublist([1, 2, 3, 4, 5, 6], 2, 4))"
      ],
      "metadata": {
        "colab": {
          "base_uri": "https://localhost:8080/"
        },
        "id": "THWiQsp8y0KL",
        "outputId": "bdc20e57-42a1-4d79-915b-bd7add1a78a3"
      },
      "execution_count": null,
      "outputs": [
        {
          "output_type": "stream",
          "name": "stdout",
          "text": [
            "[3, 4, 5]\n"
          ]
        }
      ]
    },
    {
      "cell_type": "markdown",
      "source": [
        "3. Reverse a List Using Slicing"
      ],
      "metadata": {
        "id": "YfQJYy8IzSz4"
      }
    },
    {
      "cell_type": "code",
      "source": [
        "def reverse_slicing_list(lst):\n",
        "    \"\"\"\n",
        "    Reverses a list without using built-in functions.\n",
        "\n",
        "    Args:\n",
        "        lst (list): The input list.\n",
        "\n",
        "    Returns:\n",
        "        list: The reversed list.\n",
        "    \"\"\"\n",
        "    result = []\n",
        "    for i in range(len(lst) - 1, -1, -1):\n",
        "        result.append(lst[i])\n",
        "    return result\n",
        "\n",
        "print(reverse_slicing_list([1, 2, 3, 4, 5]))"
      ],
      "metadata": {
        "colab": {
          "base_uri": "https://localhost:8080/"
        },
        "id": "V7Q3jz2vzPil",
        "outputId": "87584ee8-1337-447d-8eba-0d6b0f633c2a"
      },
      "execution_count": null,
      "outputs": [
        {
          "output_type": "stream",
          "name": "stdout",
          "text": [
            "[5, 4, 3, 2, 1]\n"
          ]
        }
      ]
    },
    {
      "cell_type": "markdown",
      "source": [
        "4. Remove the First and Last Elements"
      ],
      "metadata": {
        "id": "cs3u4JyvzdQU"
      }
    },
    {
      "cell_type": "code",
      "source": [
        "def remove_first_last(lst):\n",
        "    \"\"\"\n",
        "    Removes the first and last elements of a list and returns the resulting sublist.\n",
        "\n",
        "    Args:\n",
        "        lst (list): The input list.\n",
        "\n",
        "    Returns:\n",
        "        list: The sublist without the first and last elements.\n",
        "    \"\"\"\n",
        "    result = []\n",
        "    for i in range(1, len(lst) - 1):\n",
        "        result.append(lst[i])\n",
        "    return result\n",
        "\n",
        "print(remove_first_last([1, 2, 3, 4, 5]))"
      ],
      "metadata": {
        "colab": {
          "base_uri": "https://localhost:8080/"
        },
        "id": "M_dOwrkrzY9F",
        "outputId": "0427f49f-b89b-4f50-ca16-513b675c0863"
      },
      "execution_count": null,
      "outputs": [
        {
          "output_type": "stream",
          "name": "stdout",
          "text": [
            "[2, 3, 4]\n"
          ]
        }
      ]
    },
    {
      "cell_type": "markdown",
      "source": [
        "5. Get the First n Elements"
      ],
      "metadata": {
        "id": "jJcLFtWTzmL7"
      }
    },
    {
      "cell_type": "code",
      "source": [
        "def get_first_n(lst, n):\n",
        "    \"\"\"\n",
        "    Extracts the first n elements from a list.\n",
        "\n",
        "    Args:\n",
        "        lst (list): The input list.\n",
        "        n (int): The number of elements to extract.\n",
        "\n",
        "    Returns:\n",
        "        list: The first n elements of the list.\n",
        "    \"\"\"\n",
        "    result = []\n",
        "    for i in range(n):\n",
        "        result.append(lst[i])\n",
        "    return result\n",
        "\n",
        "print(get_first_n([1, 2, 3, 4, 5], 3))"
      ],
      "metadata": {
        "colab": {
          "base_uri": "https://localhost:8080/"
        },
        "id": "oTYp1yWizjRo",
        "outputId": "41338506-0ab1-4d50-a8ea-b4c69dc83789"
      },
      "execution_count": null,
      "outputs": [
        {
          "output_type": "stream",
          "name": "stdout",
          "text": [
            "[1, 2, 3]\n"
          ]
        }
      ]
    },
    {
      "cell_type": "markdown",
      "source": [
        "6. Extract Elements from the End"
      ],
      "metadata": {
        "id": "NbA_42MYzv9l"
      }
    },
    {
      "cell_type": "code",
      "source": [
        "def get_last_n(lst, n):\n",
        "    \"\"\"\n",
        "    Extracts the last n elements of a list.\n",
        "\n",
        "    Args:\n",
        "        lst (list): The input list.\n",
        "        n (int): The number of elements to extract from the end.\n",
        "\n",
        "    Returns:\n",
        "        list: The last n elements of the list.\n",
        "    \"\"\"\n",
        "    result = []\n",
        "    for i in range(len(lst) - n, len(lst)):\n",
        "        result.append(lst[i])\n",
        "    return result\n",
        "\n",
        "print(get_last_n([1, 2, 3, 4, 5], 2))"
      ],
      "metadata": {
        "colab": {
          "base_uri": "https://localhost:8080/"
        },
        "id": "J2jqH-02zsS2",
        "outputId": "755e3cf9-1320-4828-b623-4387e8917db4"
      },
      "execution_count": null,
      "outputs": [
        {
          "output_type": "stream",
          "name": "stdout",
          "text": [
            "[4, 5]\n"
          ]
        }
      ]
    },
    {
      "cell_type": "markdown",
      "source": [
        "7. Extract Elements in Reverse Order"
      ],
      "metadata": {
        "id": "5jdkxEb0z7DX"
      }
    },
    {
      "cell_type": "code",
      "source": [
        "def reverse_skip(lst):\n",
        "    \"\"\"\n",
        "    Extracts a list of elements in reverse order starting from the second-to-last element,\n",
        "    skipping one element in between.\n",
        "\n",
        "    Args:\n",
        "        lst (list): The input list.\n",
        "\n",
        "    Returns:\n",
        "        list: A new list containing every second element starting from the second-to-last,\n",
        "              moving backward.\n",
        "    \"\"\"\n",
        "    result = []\n",
        "    for i in range(len(lst) - 2, -1, -2):\n",
        "        result.append(lst[i])\n",
        "    return result\n",
        "\n",
        "print(reverse_skip([1, 2, 3, 4, 5, 6]))"
      ],
      "metadata": {
        "colab": {
          "base_uri": "https://localhost:8080/"
        },
        "id": "bB4PniDCz3no",
        "outputId": "834693e5-1ef2-43b6-dbc6-ae3fc94d4866"
      },
      "execution_count": null,
      "outputs": [
        {
          "output_type": "stream",
          "name": "stdout",
          "text": [
            "[5, 3, 1]\n"
          ]
        }
      ]
    },
    {
      "cell_type": "markdown",
      "source": [
        "4.3 Exercise on Nested List:"
      ],
      "metadata": {
        "id": "dCSqRjiA0MEM"
      }
    },
    {
      "cell_type": "markdown",
      "source": [
        "1. Flatten a Nested List"
      ],
      "metadata": {
        "id": "z-UblVFD1Lsx"
      }
    },
    {
      "cell_type": "code",
      "source": [
        "def flatten(lst):\n",
        "    \"\"\"\n",
        "    Flattens a nested list into a single-dimensional list.\n",
        "\n",
        "    Args:\n",
        "        lst (list): The input nested list.\n",
        "\n",
        "    Returns:\n",
        "        list: A flattened list.\n",
        "    \"\"\"\n",
        "    result = []\n",
        "    for item in lst:\n",
        "        if isinstance(item, list):\n",
        "            result.extend(flatten(item))\n",
        "        else:\n",
        "            result.append(item)\n",
        "    return result\n",
        "\n",
        "print(flatten([[1, 2], [3, 4], [5]]))"
      ],
      "metadata": {
        "colab": {
          "base_uri": "https://localhost:8080/"
        },
        "id": "rAreRfOa0Az2",
        "outputId": "0d384f3f-ccfb-4dee-dc05-b2f820ee2be2"
      },
      "execution_count": null,
      "outputs": [
        {
          "output_type": "stream",
          "name": "stdout",
          "text": [
            "[1, 2, 3, 4, 5]\n"
          ]
        }
      ]
    },
    {
      "cell_type": "markdown",
      "source": [
        "2. Accessing Nested List Elements"
      ],
      "metadata": {
        "id": "vXq0T5cs1gqQ"
      }
    },
    {
      "cell_type": "code",
      "source": [
        "def access_nested_element(lst, indices):\n",
        "    \"\"\"\n",
        "    Extracts a specific element from a nested list given its indices.\n",
        "\n",
        "    Args:\n",
        "        lst (list): The input nested list.\n",
        "        indices (list): A list of indices to access the element.\n",
        "\n",
        "    Returns:\n",
        "        The element at the specified indices.\n",
        "    \"\"\"\n",
        "    current = lst\n",
        "    for index in indices:\n",
        "        current = current[index]\n",
        "    return current\n",
        "\n",
        "print(access_nested_element([[1, 2, 3], [4, 5, 6], [7, 8, 9]], [1, 2]))"
      ],
      "metadata": {
        "colab": {
          "base_uri": "https://localhost:8080/"
        },
        "id": "r8Q3xA5q1c5j",
        "outputId": "c7972b15-2cef-4289-b8af-5e740f826dfc"
      },
      "execution_count": null,
      "outputs": [
        {
          "output_type": "stream",
          "name": "stdout",
          "text": [
            "6\n"
          ]
        }
      ]
    },
    {
      "cell_type": "markdown",
      "source": [
        "3. Sum of All Elements in a Nested List"
      ],
      "metadata": {
        "id": "b5XxjVuN1qds"
      }
    },
    {
      "cell_type": "code",
      "source": [
        "def sum_nested(lst):\n",
        "    \"\"\"\n",
        "    Calculates the sum of all elements in a nested list.\n",
        "\n",
        "    Args:\n",
        "        lst (list): The input nested list.\n",
        "\n",
        "    Returns:\n",
        "        int/float: The sum of all elements.\n",
        "    \"\"\"\n",
        "    total = 0\n",
        "    for item in lst:\n",
        "        if isinstance(item, list):\n",
        "            total += sum_nested(item)\n",
        "        else:\n",
        "            total += item\n",
        "    return total\n",
        "\n",
        "print(sum_nested([[1, 2], [3, [4, 5]], 6]))"
      ],
      "metadata": {
        "colab": {
          "base_uri": "https://localhost:8080/"
        },
        "id": "tFEayBy41n5s",
        "outputId": "04061d61-6537-4f01-eb07-b1a0753689b5"
      },
      "execution_count": null,
      "outputs": [
        {
          "output_type": "stream",
          "name": "stdout",
          "text": [
            "21\n"
          ]
        }
      ]
    },
    {
      "cell_type": "markdown",
      "source": [
        "4. Remove Specific Element from a Nested List"
      ],
      "metadata": {
        "id": "d_KGuyZ913AG"
      }
    },
    {
      "cell_type": "code",
      "source": [
        "def remove_element(lst, elem):\n",
        "    \"\"\"\n",
        "    Removes all occurrences of a specific element from a nested list.\n",
        "\n",
        "    Args:\n",
        "        lst (list): The input nested list.\n",
        "        elem: The element to remove.\n",
        "\n",
        "    Returns:\n",
        "        list: The modified list with the element removed.\n",
        "    \"\"\"\n",
        "    result = []\n",
        "    for item in lst:\n",
        "        if isinstance(item, list):\n",
        "            result.append(remove_element(item, elem))\n",
        "        elif item != elem:\n",
        "            result.append(item)\n",
        "    return result\n",
        "print(remove_element([[1, 2], [3, 2], [4, 5]], 2))"
      ],
      "metadata": {
        "colab": {
          "base_uri": "https://localhost:8080/"
        },
        "id": "7z8dweZu11Oa",
        "outputId": "6f875de0-39fa-4462-bc38-89ed8953f7f5"
      },
      "execution_count": null,
      "outputs": [
        {
          "output_type": "stream",
          "name": "stdout",
          "text": [
            "[[1], [3], [4, 5]]\n"
          ]
        }
      ]
    },
    {
      "cell_type": "markdown",
      "source": [
        "5. Find the Maximum Element in a Nested List"
      ],
      "metadata": {
        "id": "bd7nT28Y2Hqm"
      }
    },
    {
      "cell_type": "code",
      "source": [
        "def find_max(lst):\n",
        "    \"\"\"\n",
        "    Finds the maximum element in a nested list.\n",
        "\n",
        "    Args:\n",
        "        lst (list): The input nested list.\n",
        "\n",
        "    Returns:\n",
        "        int/float: The maximum element.\n",
        "    \"\"\"\n",
        "    max_val = float('-inf')\n",
        "    for item in lst:\n",
        "        if isinstance(item, list):\n",
        "            max_val = max(max_val, find_max(item))\n",
        "        else:\n",
        "            max_val = max(max_val, item)\n",
        "    return max_val\n",
        "\n",
        "print(find_max([[1, 2], [3, [4, 5]], 6]))"
      ],
      "metadata": {
        "colab": {
          "base_uri": "https://localhost:8080/"
        },
        "id": "8kYVVYmO2DrC",
        "outputId": "b95513ca-e556-47a6-de58-096d41718102"
      },
      "execution_count": null,
      "outputs": [
        {
          "output_type": "stream",
          "name": "stdout",
          "text": [
            "6\n"
          ]
        }
      ]
    },
    {
      "cell_type": "markdown",
      "source": [
        "6. Count Occurrences of an Element in a Nested List"
      ],
      "metadata": {
        "id": "4HwETtVZ2SfV"
      }
    },
    {
      "cell_type": "code",
      "source": [
        "def count_occurrences(lst, elem):\n",
        "    \"\"\"\n",
        "    Counts how many times a specific element appears in a nested list.\n",
        "\n",
        "    Args:\n",
        "        lst (list): The input nested list.\n",
        "        elem: The element to count.\n",
        "\n",
        "    Returns:\n",
        "        int: The number of occurrences of the element.\n",
        "    \"\"\"\n",
        "    count = 0\n",
        "    for item in lst:\n",
        "        if isinstance(item, list):\n",
        "            count += count_occurrences(item, elem)\n",
        "        elif item == elem:\n",
        "            count += 1\n",
        "    return count\n",
        "print(count_occurrences([[1, 2], [2, 3], [2, 4]], 2))"
      ],
      "metadata": {
        "colab": {
          "base_uri": "https://localhost:8080/"
        },
        "id": "4tR1lr2p2PwR",
        "outputId": "77233493-2cf0-459f-b99c-585b716a816f"
      },
      "execution_count": null,
      "outputs": [
        {
          "output_type": "stream",
          "name": "stdout",
          "text": [
            "3\n"
          ]
        }
      ]
    },
    {
      "cell_type": "markdown",
      "source": [
        "7. Flatten a List of Lists of Lists"
      ],
      "metadata": {
        "id": "-rae1QN62htC"
      }
    },
    {
      "cell_type": "code",
      "source": [
        "def deep_flatten(lst):\n",
        "    \"\"\"\n",
        "    Flattens a deeply nested list into a single-dimensional list.\n",
        "\n",
        "    Args:\n",
        "        lst (list): The input deeply nested list.\n",
        "\n",
        "    Returns:\n",
        "        list: A flattened list.\n",
        "    \"\"\"\n",
        "    result = []\n",
        "    for item in lst:\n",
        "        if isinstance(item, list):\n",
        "            result.extend(deep_flatten(item))\n",
        "        else:\n",
        "            result.append(item)\n",
        "    return result\n",
        "\n",
        "print(deep_flatten([[[1, 2], [3, 4]], [[5, 6], [7, 8]]]))"
      ],
      "metadata": {
        "colab": {
          "base_uri": "https://localhost:8080/"
        },
        "id": "QNneejqv2dNk",
        "outputId": "860bdfa5-34b7-464e-cb23-922060bac3b1"
      },
      "execution_count": null,
      "outputs": [
        {
          "output_type": "stream",
          "name": "stdout",
          "text": [
            "[1, 2, 3, 4, 5, 6, 7, 8]\n"
          ]
        }
      ]
    },
    {
      "cell_type": "markdown",
      "source": [
        "8. Nested List Average"
      ],
      "metadata": {
        "id": "ZX55MqM-2sGY"
      }
    },
    {
      "cell_type": "code",
      "source": [
        "def average_nested(lst):\n",
        "    \"\"\"\n",
        "    Calculates the average of all elements in a nested list.\n",
        "\n",
        "    Args:\n",
        "        lst (list): The input nested list.\n",
        "\n",
        "    Returns:\n",
        "        float: The average of all elements.\n",
        "    \"\"\"\n",
        "    def flatten(lst):\n",
        "        result = []\n",
        "        for item in lst:\n",
        "            if isinstance(item, list):\n",
        "                result.extend(flatten(item))\n",
        "            else:\n",
        "                result.append(item)\n",
        "        return result\n",
        "\n",
        "    flattened = flatten(lst)\n",
        "    return sum(flattened) / len(flattened)\n",
        "print(average_nested([[1, 2], [3, 4], [5, 6]]))"
      ],
      "metadata": {
        "colab": {
          "base_uri": "https://localhost:8080/"
        },
        "id": "Ds7A8xvw2qSQ",
        "outputId": "1c358683-c825-4369-a547-c35f3bcd529a"
      },
      "execution_count": null,
      "outputs": [
        {
          "output_type": "stream",
          "name": "stdout",
          "text": [
            "3.5\n"
          ]
        }
      ]
    },
    {
      "cell_type": "markdown",
      "source": [
        "# **10.  To- Do- NumPy**"
      ],
      "metadata": {
        "id": "qSkpUjYi3H1b"
      }
    },
    {
      "cell_type": "markdown",
      "source": [
        "10.1  Basic Vector and Matrix Operation with Numpy."
      ],
      "metadata": {
        "id": "tfkMneJP3WLe"
      }
    },
    {
      "cell_type": "markdown",
      "source": [
        "Problem- 1: Array Creation:"
      ],
      "metadata": {
        "id": "YtTAblyK3dh-"
      }
    },
    {
      "cell_type": "code",
      "source": [
        "import numpy as np\n",
        "emptyArray = np.empty((2, 2))\n",
        "print(\"1. Empty Array:\\n\", emptyArray)\n",
        "\n",
        "onesArray = np.ones((4, 2))\n",
        "print(\"\\n2. Ones Array:\\n\", onesArray)\n",
        "\n",
        "fillArray = np.full((3, 3), 7)\n",
        "print(\"\\n3. Array filled with 7:\\n\", fillArray)\n",
        "\n",
        "sampleArray = np.array([[1, 2, 3], [4, 5, 6]])\n",
        "zeroslike_array = np.zeros_like(sampleArray)\n",
        "print(\"\\n4. Array of Zeros as sample array:\\n\", zeroslike_array)\n",
        "\n",
        "oneslike_array = np.ones_like(sampleArray)\n",
        "print(\"\\n5. Array of Ones as sample array:\\n\", oneslike_array)\n",
        "\n",
        "new_list = [1, 2, 3, 4]\n",
        "numpyArray = np.array(new_list)\n",
        "print(\"\\n6. Converted List to NumPy Array:\\n\", numpyArray)\n"
      ],
      "metadata": {
        "colab": {
          "base_uri": "https://localhost:8080/"
        },
        "id": "44uM_nCi21uS",
        "outputId": "c42c5025-124e-47d9-c42b-16ee5b4847fd"
      },
      "execution_count": null,
      "outputs": [
        {
          "output_type": "stream",
          "name": "stdout",
          "text": [
            "1. Empty Array:\n",
            " [[4.9e-324 9.9e-324]\n",
            " [1.5e-323 2.0e-323]]\n",
            "\n",
            "2. Ones Array:\n",
            " [[1. 1.]\n",
            " [1. 1.]\n",
            " [1. 1.]\n",
            " [1. 1.]]\n",
            "\n",
            "3. Array filled with 7:\n",
            " [[7 7 7]\n",
            " [7 7 7]\n",
            " [7 7 7]]\n",
            "\n",
            "4. Array of Zeros as sample array:\n",
            " [[0 0 0]\n",
            " [0 0 0]]\n",
            "\n",
            "5. Array of Ones as sample array:\n",
            " [[1 1 1]\n",
            " [1 1 1]]\n",
            "\n",
            "6. Converted List to NumPy Array:\n",
            " [1 2 3 4]\n"
          ]
        }
      ]
    },
    {
      "cell_type": "markdown",
      "source": [
        "Problem- 2: Array Manipulation: Numerical Ranges and Array indexing"
      ],
      "metadata": {
        "id": "VG7_8K6Z4adI"
      }
    },
    {
      "cell_type": "code",
      "source": [
        "arr10_to49 = np.arange(10, 50)\n",
        "print(\"1. Array from 10 to 49:\\n\", arr10_to49)\n",
        "\n",
        "matrix0_to8 = np.arange(9).reshape(3, 3)\n",
        "print(\"\\n2. 3x3 Matrix from 0 to 8:\\n\", matrix0_to8)\n",
        "\n",
        "identityMatrix = np.eye(3)\n",
        "print(\"\\n3. Identity Matrix:\\n\", identityMatrix)\n",
        "\n",
        "randomArray = np.random.random(30)\n",
        "meanValue = np.mean(randomArray)\n",
        "print(\"\\n4. Mean of Random Array:\\n\", meanValue)\n",
        "\n",
        "randomMatrix = np.random.random((10, 10))\n",
        "minValue = np.min(randomMatrix)\n",
        "maxValue = np.max(randomMatrix)\n",
        "print(\"\\n5.  Random Matrix Min & Max:\\n\", minValue, maxValue)\n",
        "\n",
        "zeroArray = np.zeros(10)\n",
        "zeroArray[4] = 1\n",
        "print(\"\\n6. Zero Array with 5th element replaced by 1:\\n\", zeroArray)\n",
        "\n",
        "arr = np.array([1, 2, 0, 0, 4, 0])\n",
        "reversed_arr = arr[::-1]\n",
        "print(\"\\n7. Reversed Array:\\n\", reversed_arr)\n",
        "\n",
        "border_array = np.ones((5, 5))\n",
        "border_array[1:-1, 1:-1] = 0\n",
        "print(\"\\n8. 2D Array with 1 on Border and 0 Inside:\\n\", border_array)\n",
        "\n",
        "checkerboard = np.zeros((8, 8), dtype=int)\n",
        "checkerboard[1::2, ::2] = 1\n",
        "checkerboard[::2, 1::2] = 1\n",
        "print(\"\\n9. Checkerboard Pattern:\\n\", checkerboard)"
      ],
      "metadata": {
        "colab": {
          "base_uri": "https://localhost:8080/"
        },
        "id": "Szew6LSw3nrD",
        "outputId": "335a8ec0-548a-4c35-ebb9-81bb0c7531b2"
      },
      "execution_count": null,
      "outputs": [
        {
          "output_type": "stream",
          "name": "stdout",
          "text": [
            "1. Array from 10 to 49:\n",
            " [10 11 12 13 14 15 16 17 18 19 20 21 22 23 24 25 26 27 28 29 30 31 32 33\n",
            " 34 35 36 37 38 39 40 41 42 43 44 45 46 47 48 49]\n",
            "\n",
            "2. 3x3 Matrix from 0 to 8:\n",
            " [[0 1 2]\n",
            " [3 4 5]\n",
            " [6 7 8]]\n",
            "\n",
            "3. Identity Matrix:\n",
            " [[1. 0. 0.]\n",
            " [0. 1. 0.]\n",
            " [0. 0. 1.]]\n",
            "\n",
            "4. Mean of Random Array:\n",
            " 0.5420310978557803\n",
            "\n",
            "5.  Random Matrix Min & Max:\n",
            " 0.007143355405369034 0.9900592703505442\n",
            "\n",
            "6. Zero Array with 5th element replaced by 1:\n",
            " [0. 0. 0. 0. 1. 0. 0. 0. 0. 0.]\n",
            "\n",
            "7. Reversed Array:\n",
            " [0 4 0 0 2 1]\n",
            "\n",
            "8. 2D Array with 1 on Border and 0 Inside:\n",
            " [[1. 1. 1. 1. 1.]\n",
            " [1. 0. 0. 0. 1.]\n",
            " [1. 0. 0. 0. 1.]\n",
            " [1. 0. 0. 0. 1.]\n",
            " [1. 1. 1. 1. 1.]]\n",
            "\n",
            "9. Checkerboard Pattern:\n",
            " [[0 1 0 1 0 1 0 1]\n",
            " [1 0 1 0 1 0 1 0]\n",
            " [0 1 0 1 0 1 0 1]\n",
            " [1 0 1 0 1 0 1 0]\n",
            " [0 1 0 1 0 1 0 1]\n",
            " [1 0 1 0 1 0 1 0]\n",
            " [0 1 0 1 0 1 0 1]\n",
            " [1 0 1 0 1 0 1 0]]\n"
          ]
        }
      ]
    },
    {
      "cell_type": "markdown",
      "source": [
        " Problem- 3: Array Operations:"
      ],
      "metadata": {
        "id": "S-eDzeOD5CYw"
      }
    },
    {
      "cell_type": "code",
      "source": [
        "import numpy as np\n",
        "\n",
        "x = np.array([[1, 2], [3, 5]])\n",
        "y = np.array([[5, 6], [7, 8]])\n",
        "v = np.array([9, 10])\n",
        "w = np.array([11, 12])\n",
        "\n",
        "addition = x + y\n",
        "print(\"1. Addition of x & y:\\n\", addition)\n",
        "\n",
        "subtraction = x - y\n",
        "print(\"\\n2. Subtraction of x & y:\\n\", subtraction)\n",
        "\n",
        "multiplication= x * 2\n",
        "print(\"\\n3. Multiplication of x by 2:\\n\", multiplication)\n",
        "\n",
        "square = x ** 2\n",
        "print(\"\\n4. Square of each element in x:\\n\", square)\n",
        "\n",
        "dot_vw = np.dot(v, w)\n",
        "dot_xv = np.dot(x, v)\n",
        "dot_xy = np.dot(x, y)\n",
        "print(\"\\n5.\")\n",
        "print(\"\\nDot product of v & w:\\n\", dot_vw)\n",
        "print(\"\\nDot product of x & v:\\n\", dot_xv)\n",
        "print(\"\\nDot product of x & y:\\n\", dot_xy)\n",
        "\n",
        "concat_xy = np.concatenate((x, y), axis=0)\n",
        "print(\"\\n6. Concatenation of x and y along rows:\\n\", concat_xy)\n",
        "\n",
        "concat_vw = np.vstack((v, w))\n",
        "print(\"\\nConcatenation of v and w along columns:\\n\", concat_vw)\n",
        "\n",
        "try:\n",
        "    concat_xv = np.concatenate((x, v), axis=0)\n",
        "    print(\"\\n7.\")\n",
        "    print(\"\\nConcatenation of x and v:\\n\", concat_xv)\n",
        "except ValueError as e:\n",
        "    print(\"\\nError concatenating x and v:\", e)"
      ],
      "metadata": {
        "colab": {
          "base_uri": "https://localhost:8080/"
        },
        "id": "2-kApivl4-eD",
        "outputId": "139cf14f-9b37-4a45-e14e-df0c868ad83e"
      },
      "execution_count": null,
      "outputs": [
        {
          "output_type": "stream",
          "name": "stdout",
          "text": [
            "1. Addition of x & y:\n",
            " [[ 6  8]\n",
            " [10 13]]\n",
            "\n",
            "2. Subtraction of x & y:\n",
            " [[-4 -4]\n",
            " [-4 -3]]\n",
            "\n",
            "3. Multiplication of x by 2:\n",
            " [[ 2  4]\n",
            " [ 6 10]]\n",
            "\n",
            "4. Square of each element in x:\n",
            " [[ 1  4]\n",
            " [ 9 25]]\n",
            "\n",
            "5.\n",
            "\n",
            "Dot product of v & w:\n",
            " 219\n",
            "\n",
            "Dot product of x & v:\n",
            " [29 77]\n",
            "\n",
            "Dot product of x & y:\n",
            " [[19 22]\n",
            " [50 58]]\n",
            "\n",
            "6. Concatenation of x and y along rows:\n",
            " [[1 2]\n",
            " [3 5]\n",
            " [5 6]\n",
            " [7 8]]\n",
            "\n",
            "Concatenation of v and w along columns:\n",
            " [[ 9 10]\n",
            " [11 12]]\n",
            "\n",
            "Error concatenating x and v: all the input arrays must have same number of dimensions, but the array at index 0 has 2 dimension(s) and the array at index 1 has 1 dimension(s)\n"
          ]
        }
      ]
    },
    {
      "cell_type": "markdown",
      "source": [
        " Problem- 4: Matrix Operations:"
      ],
      "metadata": {
        "id": "LVM4BLIN6Jmr"
      }
    },
    {
      "cell_type": "code",
      "source": [
        "A = np.array([[3, 4], [7, 8]])\n",
        "B = np.array([[5, 3], [2, 1]])\n",
        "\n",
        "A_inverse = np.linalg.inv(A)\n",
        "check = np.dot(A, A_inverse)\n",
        "print(\"A * A⁻¹ = I:\\n\", check)\n",
        "\n",
        "AB = np.dot(A, B)\n",
        "BA = np.dot(B, A)\n",
        "print(\"\\nMatrix AB:\\n\", AB)\n",
        "print(\"\\nMatrix BA:\\n\", BA)\n",
        "if not np.array_equal(AB, BA):\n",
        "    print(\"\\nAB is NOT equal to BA\")\n",
        "\n",
        "AB_Transpose = np.transpose(AB)\n",
        "BT_AT = np.dot(B.T, A.T)\n",
        "print(\"\\n(AB)ᵀ:\\n\", AB_Transpose)\n",
        "print(\"\\nBᵀ * Aᵀ:\\n\", BT_AT)\n",
        "if np.array_equal(AB_Transpose, BT_AT):\n",
        "    print(\"\\n(AB)ᵀ is equal to Bᵀ * Aᵀ\")\n",
        "\n",
        "A_Matrix = np.array([[2, -3, 1],\n",
        "                     [1, -1, 2],\n",
        "                     [3, 1, -1]])\n",
        "\n",
        "B_matrix = np.array([-1, -3, 9])\n",
        "\n",
        "A_inverse = np.linalg.inv(A_Matrix)\n",
        "solution = np.dot(A_inverse, B_matrix)\n",
        "print(\"\\nLinear Equations (x, y, z):\\n\", solution)"
      ],
      "metadata": {
        "colab": {
          "base_uri": "https://localhost:8080/"
        },
        "id": "8z3EXnmz5Z7k",
        "outputId": "9f3f4be3-dbe4-4df8-965f-3f64f90a5781"
      },
      "execution_count": null,
      "outputs": [
        {
          "output_type": "stream",
          "name": "stdout",
          "text": [
            "A * A⁻¹ = I:\n",
            " [[1.00000000e+00 0.00000000e+00]\n",
            " [1.77635684e-15 1.00000000e+00]]\n",
            "\n",
            "Matrix AB:\n",
            " [[23 13]\n",
            " [51 29]]\n",
            "\n",
            "Matrix BA:\n",
            " [[36 44]\n",
            " [13 16]]\n",
            "\n",
            "AB is NOT equal to BA\n",
            "\n",
            "(AB)ᵀ:\n",
            " [[23 51]\n",
            " [13 29]]\n",
            "\n",
            "Bᵀ * Aᵀ:\n",
            " [[23 51]\n",
            " [13 29]]\n",
            "\n",
            "(AB)ᵀ is equal to Bᵀ * Aᵀ\n",
            "\n",
            "Linear Equations (x, y, z):\n",
            " [ 2.  1. -2.]\n"
          ]
        }
      ]
    },
    {
      "cell_type": "markdown",
      "source": [
        "10.2  Experiment: How Fast is Numpy?"
      ],
      "metadata": {
        "id": "OJ7Wnq0n7INV"
      }
    },
    {
      "cell_type": "code",
      "source": [
        "import time\n",
        "import numpy as np\n",
        "\n",
        "# Define sizes\n",
        "Size = 1_000_000\n",
        "matrix_size = 1000\n",
        "\n",
        "# Initialize Python lists\n",
        "list1 = [i for i in range(Size)]\n",
        "list2 = [i for i in range(Size)]\n",
        "\n",
        "# Initialize NumPy arrays\n",
        "Array1 = np.arange(Size)\n",
        "Array2 = np.arange(Size)\n",
        "\n",
        "# 1. Element-wise Addition\n",
        "start_time = time.perf_counter()\n",
        "list_addition = [list1[i] + list2[i] for i in range(Size)]\n",
        "list_addition_time = time.perf_counter() - start_time\n",
        "print(f\"Python Lists Addition Time: {list_addition_time:.5f} seconds\")\n",
        "\n",
        "start_time = time.perf_counter()\n",
        "numpy_addition = Array1 + Array2\n",
        "numpy_addition_time = time.perf_counter() - start_time\n",
        "print(f\"NumPy Arrays Addition Time: {numpy_addition_time:.5f} seconds\")\n",
        "\n",
        "# 2. Element-wise Multiplication\n",
        "start_time = time.perf_counter()\n",
        "list_multiplication = [list1[i] * list2[i] for i in range(Size)]\n",
        "list_multiplication_time = time.perf_counter() - start_time\n",
        "print(f\"\\nPython Lists Multiplication Time: {list_multiplication_time:.5f} seconds\")\n",
        "\n",
        "start_time = time.perf_counter()\n",
        "numpy_multiplication = Array1 * Array2\n",
        "numpy_multiplication_time = time.perf_counter() - start_time\n",
        "print(f\"NumPy Arrays Multiplication Time: {numpy_multiplication_time:.5f} seconds\")\n",
        "\n",
        "# 3. Dot Product\n",
        "start_time = time.perf_counter()\n",
        "dot_product = sum(list1[i] * list2[i] for i in range(Size))\n",
        "list_dot_product_time = time.perf_counter() - start_time\n",
        "print(f\"\\nPython Lists Dot Product Time: {list_dot_product_time:.5f} seconds\")\n",
        "\n",
        "start_time = time.perf_counter()\n",
        "numpy_dot_product = np.dot(Array1, Array2)\n",
        "numpy_dot_product_time = time.perf_counter() - start_time\n",
        "print(f\"NumPy Arrays Dot Product Time: {numpy_dot_product_time:.5f} seconds\")\n",
        "\n",
        "# 4. Matrix Multiplication\n",
        "# Initialize Python matrices\n",
        "list_matrix1 = [[j for j in range(matrix_size)] for i in range(matrix_size)]\n",
        "list_matrix2 = [[j for j in range(matrix_size)] for i in range(matrix_size)]\n",
        "\n",
        "# Initialize NumPy matrices\n",
        "numpy_matrix1 = np.arange(matrix_size ** 2).reshape(matrix_size, matrix_size)\n",
        "numpy_matrix2 = np.arange(matrix_size ** 2).reshape(matrix_size, matrix_size)\n",
        "\n",
        "# Python matrix multiplication\n",
        "start_time = time.perf_counter()\n",
        "# Precompute the transposed matrix for efficiency\n",
        "transposed_matrix2 = list(zip(*list_matrix2))\n",
        "result_matrix = [[sum(a * b for a, b in zip(row, col)) for col in transposed_matrix2] for row in list_matrix1]\n",
        "list_matrix_multiplication_time = time.perf_counter() - start_time\n",
        "print(f\"\\nPython Lists Matrix Multiplication Time: {list_matrix_multiplication_time:.5f} seconds\")\n",
        "\n",
        "# NumPy matrix multiplication\n",
        "start_time = time.perf_counter()\n",
        "numpy_matrix_multiplication = np.matmul(numpy_matrix1, numpy_matrix2)\n",
        "numpy_matrix_multiplication_time = time.perf_counter() - start_time\n",
        "print(f\"NumPy Arrays Matrix Multiplication Time: {numpy_matrix_multiplication_time:.5f} seconds\")"
      ],
      "metadata": {
        "colab": {
          "base_uri": "https://localhost:8080/"
        },
        "id": "2snIMHA_6t2c",
        "outputId": "78762ec5-f109-4f95-f6ad-874b114f7b6b"
      },
      "execution_count": null,
      "outputs": [
        {
          "output_type": "stream",
          "name": "stdout",
          "text": [
            "Python Lists Addition Time: 0.16318 seconds\n",
            "NumPy Arrays Addition Time: 0.00810 seconds\n",
            "\n",
            "Python Lists Multiplication Time: 0.25107 seconds\n",
            "NumPy Arrays Multiplication Time: 0.00982 seconds\n",
            "\n",
            "Python Lists Dot Product Time: 0.44093 seconds\n",
            "NumPy Arrays Dot Product Time: 0.00510 seconds\n",
            "\n",
            "Python Lists Matrix Multiplication Time: 146.80280 seconds\n",
            "NumPy Arrays Matrix Multiplication Time: 4.13889 seconds\n"
          ]
        }
      ]
    },
    {
      "cell_type": "code",
      "source": [],
      "metadata": {
        "id": "vGlxE3K9Ggfy"
      },
      "execution_count": null,
      "outputs": []
    }
  ]
}